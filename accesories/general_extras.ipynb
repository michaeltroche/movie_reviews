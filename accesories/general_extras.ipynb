{
 "cells": [
  {
   "cell_type": "markdown",
   "metadata": {},
   "source": [
    "# General Extras\n",
    "This notebook is used to keep code that may be useful in the future - it helps to keep my other files clean and easily readable."
   ]
  },
  {
   "cell_type": "code",
   "execution_count": 12,
   "metadata": {},
   "outputs": [],
   "source": [
    "import pickle\n",
    "import os\n",
    "import pandas as pd"
   ]
  },
  {
   "cell_type": "code",
   "execution_count": 17,
   "metadata": {},
   "outputs": [
    {
     "name": "stdout",
     "output_type": "stream",
     "text": [
      "99\n"
     ]
    }
   ],
   "source": [
    "with open('movies.pkl', 'rb') as f:\n",
    "    text = pickle.load(f)\n",
    "    \n",
    "# k = 0\n",
    "# for i in text[0]:\n",
    "#     k += 1\n",
    "#     if k > 44:\n",
    "#         break\n",
    "#     print(i)\n",
    "    \n",
    "    \n",
    "print(len(os.listdir('../review_dfs')))"
   ]
  }
 ],
 "metadata": {
  "kernelspec": {
   "display_name": "Python 3",
   "language": "python",
   "name": "python3"
  },
  "language_info": {
   "codemirror_mode": {
    "name": "ipython",
    "version": 3
   },
   "file_extension": ".py",
   "mimetype": "text/x-python",
   "name": "python",
   "nbconvert_exporter": "python",
   "pygments_lexer": "ipython3",
   "version": "3.8.5"
  }
 },
 "nbformat": 4,
 "nbformat_minor": 4
}
