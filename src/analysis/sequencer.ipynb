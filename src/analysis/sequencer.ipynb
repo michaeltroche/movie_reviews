{
 "cells": [
  {
   "cell_type": "markdown",
   "metadata": {},
   "source": [
    "# Movie Review Sequencer"
   ]
  },
  {
   "cell_type": "markdown",
   "metadata": {},
   "source": [
    "### Importing Modules"
   ]
  },
  {
   "cell_type": "code",
   "execution_count": 1,
   "metadata": {},
   "outputs": [],
   "source": [
    "import numpy as np\n",
    "import pandas as pd\n",
    "\n",
    "from matplotlib import pyplot as plt\n",
    "import seaborn as sns\n",
    "\n",
    "import os\n",
    "import pickle\n",
    "import re\n",
    "\n",
    "import time\n",
    "import enchant\n",
    "\n",
    "from nltk.corpus import stopwords\n",
    "from nltk.tokenize import RegexpTokenizer\n",
    "from nltk.tokenize import sent_tokenize, word_tokenize\n",
    "from nltk.stem import PorterStemmer\n",
    "\n",
    "from tensorflow.keras.preprocessing.text import Tokenizer, text_to_word_sequence"
   ]
  },
  {
   "cell_type": "markdown",
   "metadata": {},
   "source": [
    "### Loading dataframe and first look"
   ]
  },
  {
   "cell_type": "code",
   "execution_count": 2,
   "metadata": {},
   "outputs": [],
   "source": [
    "# Concatening dataframes\n",
    "df = pd.DataFrame()\n",
    "for df_file in os.listdir('../../review_dfs'):    \n",
    "    df_new = pd.read_pickle(f'../../review_dfs/{df_file}')\n",
    "    \n",
    "    if df.empty:\n",
    "        df = df_new\n",
    "    else:\n",
    "        df = pd.concat([df, df_new])"
   ]
  },
  {
   "cell_type": "code",
   "execution_count": 3,
   "metadata": {},
   "outputs": [
    {
     "data": {
      "text/html": [
       "<div>\n",
       "<style scoped>\n",
       "    .dataframe tbody tr th:only-of-type {\n",
       "        vertical-align: middle;\n",
       "    }\n",
       "\n",
       "    .dataframe tbody tr th {\n",
       "        vertical-align: top;\n",
       "    }\n",
       "\n",
       "    .dataframe thead th {\n",
       "        text-align: right;\n",
       "    }\n",
       "</style>\n",
       "<table border=\"1\" class=\"dataframe\">\n",
       "  <thead>\n",
       "    <tr style=\"text-align: right;\">\n",
       "      <th></th>\n",
       "      <th>index</th>\n",
       "      <th>movie_name</th>\n",
       "      <th>movie_year</th>\n",
       "      <th>meter_score</th>\n",
       "      <th>user</th>\n",
       "      <th>post_date</th>\n",
       "      <th>verified</th>\n",
       "      <th>super_reviewer</th>\n",
       "      <th>spoilers</th>\n",
       "      <th>profanity</th>\n",
       "      <th>review</th>\n",
       "      <th>rating</th>\n",
       "    </tr>\n",
       "  </thead>\n",
       "  <tbody>\n",
       "    <tr>\n",
       "      <th>0</th>\n",
       "      <td>0</td>\n",
       "      <td>antichrist</td>\n",
       "      <td>2009</td>\n",
       "      <td>53</td>\n",
       "      <td>882704800</td>\n",
       "      <td>2021-02-2</td>\n",
       "      <td>0</td>\n",
       "      <td>0</td>\n",
       "      <td>0</td>\n",
       "      <td>1</td>\n",
       "      <td>While \"Antichrist\" is certainly a graphic and ...</td>\n",
       "      <td>4.0</td>\n",
       "    </tr>\n",
       "    <tr>\n",
       "      <th>1</th>\n",
       "      <td>1</td>\n",
       "      <td>antichrist</td>\n",
       "      <td>2009</td>\n",
       "      <td>53</td>\n",
       "      <td>978539678</td>\n",
       "      <td>2020-12-2</td>\n",
       "      <td>0</td>\n",
       "      <td>0</td>\n",
       "      <td>0</td>\n",
       "      <td>0</td>\n",
       "      <td>The ridiculously gigantic proportions of this ...</td>\n",
       "      <td>4.0</td>\n",
       "    </tr>\n",
       "    <tr>\n",
       "      <th>2</th>\n",
       "      <td>2</td>\n",
       "      <td>antichrist</td>\n",
       "      <td>2009</td>\n",
       "      <td>53</td>\n",
       "      <td>978883847</td>\n",
       "      <td>2020-12-1</td>\n",
       "      <td>0</td>\n",
       "      <td>0</td>\n",
       "      <td>0</td>\n",
       "      <td>1</td>\n",
       "      <td>What to say about this BORING load of CRAP !!!...</td>\n",
       "      <td>0.5</td>\n",
       "    </tr>\n",
       "    <tr>\n",
       "      <th>3</th>\n",
       "      <td>3</td>\n",
       "      <td>antichrist</td>\n",
       "      <td>2009</td>\n",
       "      <td>53</td>\n",
       "      <td>977983837</td>\n",
       "      <td>2020-11-1</td>\n",
       "      <td>0</td>\n",
       "      <td>0</td>\n",
       "      <td>0</td>\n",
       "      <td>1</td>\n",
       "      <td>Too much very graphic porn and the woman is a ...</td>\n",
       "      <td>1.0</td>\n",
       "    </tr>\n",
       "    <tr>\n",
       "      <th>4</th>\n",
       "      <td>4</td>\n",
       "      <td>antichrist</td>\n",
       "      <td>2009</td>\n",
       "      <td>53</td>\n",
       "      <td>978580560</td>\n",
       "      <td>2020-09-2</td>\n",
       "      <td>0</td>\n",
       "      <td>0</td>\n",
       "      <td>0</td>\n",
       "      <td>0</td>\n",
       "      <td>Descomunalmente desconfortável. Lars  Von Trie...</td>\n",
       "      <td>3.5</td>\n",
       "    </tr>\n",
       "  </tbody>\n",
       "</table>\n",
       "</div>"
      ],
      "text/plain": [
       "   index  movie_name movie_year  meter_score       user  post_date  verified  \\\n",
       "0      0  antichrist       2009           53  882704800  2021-02-2         0   \n",
       "1      1  antichrist       2009           53  978539678  2020-12-2         0   \n",
       "2      2  antichrist       2009           53  978883847  2020-12-1         0   \n",
       "3      3  antichrist       2009           53  977983837  2020-11-1         0   \n",
       "4      4  antichrist       2009           53  978580560  2020-09-2         0   \n",
       "\n",
       "   super_reviewer  spoilers  profanity  \\\n",
       "0               0         0          1   \n",
       "1               0         0          0   \n",
       "2               0         0          1   \n",
       "3               0         0          1   \n",
       "4               0         0          0   \n",
       "\n",
       "                                              review  rating  \n",
       "0  While \"Antichrist\" is certainly a graphic and ...     4.0  \n",
       "1  The ridiculously gigantic proportions of this ...     4.0  \n",
       "2  What to say about this BORING load of CRAP !!!...     0.5  \n",
       "3  Too much very graphic porn and the woman is a ...     1.0  \n",
       "4  Descomunalmente desconfortável. Lars  Von Trie...     3.5  "
      ]
     },
     "execution_count": 3,
     "metadata": {},
     "output_type": "execute_result"
    }
   ],
   "source": [
    "# Dataframe head\n",
    "df.reset_index(inplace=True)\n",
    "df.head()"
   ]
  },
  {
   "cell_type": "markdown",
   "metadata": {},
   "source": [
    "### Manually checking for problem reviews"
   ]
  },
  {
   "cell_type": "code",
   "execution_count": 5,
   "metadata": {},
   "outputs": [],
   "source": [
    "# df_random = df.sample(frac=1)\n",
    "\n",
    "# for i in range(len(df_random)):\n",
    "#     review = df_random.iloc[i]['review']\n",
    "#     print('- ' + review)\n",
    "#     inp = input('\\t')\n",
    "#     if len(inp)>0:\n",
    "#         print()"
   ]
  },
  {
   "cell_type": "markdown",
   "metadata": {},
   "source": [
    "### Problem code examples\n",
    "\n",
    "- [font=Century Gothic]This movie was an incredibly moving piece. The character arcs are beautiful and horrifying. It will depress you.[/font]\n",
    "\n",
    "- [font=Impact]it was a great movie and i want to see it again!i think mel gibson did a tremendious job![/font]\n",
    "\n",
    "- [center][font=Arial, Helvetica, sans-serif][color=#ff0000][b]\"The entire artistic design of the film is so outlandish that words don't do it justice.\"[/b][/color][/font][/center]\n",
    "[center][b][font=Arial][color=#ff0000][/color][/font][/b] [/center]\n",
    "[center]Read Mike's full review by clicking below:[/center]\n",
    "[url=\"http://www.moviepulse.net/mp_pages/dvd/page_clockworkorange.php\"][img]http://www.moviepulse.net/mp_pages/dvd/screenshots/clockworkorange/clockworkorange.jpg[/img][/url]"
   ]
  },
  {
   "cell_type": "markdown",
   "metadata": {},
   "source": [
    "### Removing HTML tagged reviews"
   ]
  },
  {
   "cell_type": "code",
   "execution_count": 18,
   "metadata": {},
   "outputs": [],
   "source": [
    "# Highlighting HTML tag reviews\n",
    "df2 = df.loc[df['review'].str.contains('\\[/'), 'review']"
   ]
  },
  {
   "cell_type": "markdown",
   "metadata": {},
   "source": [
    "### Removing non-english reviews"
   ]
  },
  {
   "cell_type": "code",
   "execution_count": 16,
   "metadata": {},
   "outputs": [],
   "source": [
    "# Dictionary of US-english words\n",
    "d = enchant.Dict(\"en_US\")\n",
    "\n",
    "# Checking subsection of reviews\n",
    "N = 1000\n",
    "for i in range(N):\n",
    "    review = df['review'][i]\n",
    "    review = review.lower()\n",
    "    tokenizer = RegexpTokenizer(r'\\w+')\n",
    "    review_tokenized = tokenizer.tokenize(review)\n",
    "    \n",
    "    # If 10/20 words are non-eng, flag review\n",
    "    non_eng = 0\n",
    "    j = 0\n",
    "    for word in review_tokenized:\n",
    "        j += 1\n",
    "        if d.check(word)==False:\n",
    "            non_eng += 1\n",
    "        if non_eng == 10: \n",
    "            # print('-', review,'\\n\\n')\n",
    "            break\n",
    "        if j > 20:\n",
    "            break"
   ]
  },
  {
   "cell_type": "markdown",
   "metadata": {},
   "source": [
    "### Tokenizing and stemming for one review"
   ]
  },
  {
   "cell_type": "code",
   "execution_count": 7,
   "metadata": {},
   "outputs": [],
   "source": [
    "start = time.time()\n",
    "processed_review = []\n",
    "for i in range(10):\n",
    "    review = df['review'][i]\n",
    "    review = review.lower()\n",
    "\n",
    "    # Replacing digits with corresponding word\n",
    "    numbers = [1,2,3,4,5,6,7,8,9,0]\n",
    "    num_words = ['one','two','three','four','five','six','seven','eight','nine','zero']\n",
    "    for number, number_word in zip(numbers, num_words):\n",
    "        review = review.replace(f'{number}',f'{number_word}')\n",
    "\n",
    "    # Tokenizing into list - removing all punctuation and separating by word\n",
    "    tokenizer = RegexpTokenizer(r'\\w+')\n",
    "    review_tokenized = tokenizer.tokenize(review)\n",
    "\n",
    "    # Stop word filtration\n",
    "    stop_words = set(stopwords.words('english'))\n",
    "    review_filtered = [w for w in review_tokenized if w not in stop_words]\n",
    "\n",
    "    # Stemming\n",
    "    ps = PorterStemmer()\n",
    "    review_stemmed = [ps.stem(i) for i in review_filtered]\n",
    "    \n",
    "    processed_review.append(review_stemmed)"
   ]
  },
  {
   "cell_type": "markdown",
   "metadata": {},
   "source": [
    "### Text to sequence process"
   ]
  },
  {
   "cell_type": "code",
   "execution_count": 8,
   "metadata": {},
   "outputs": [
    {
     "name": "stdout",
     "output_type": "stream",
     "text": [
      "[[9, 18, 19, 46, 1, 20, 10, 47, 48, 49, 50, 21, 51, 52, 1, 5, 53, 4, 3, 54, 55, 56, 57, 58, 59, 60, 61, 62, 63, 22, 64, 65, 22, 66, 11, 67, 68, 23, 5, 69, 2, 24, 12, 70, 13, 71, 1, 72, 73, 74, 14, 6, 1, 25, 75, 26, 27, 7, 76, 2, 9, 77, 78, 79, 80, 81, 6, 28, 29, 11, 82, 2, 10, 83, 12, 84, 85, 86, 87, 24], [88, 89, 90, 91, 92, 93, 94, 95, 3, 30, 96, 97, 26, 98, 99], [31, 100, 101, 102, 12, 103, 104, 105, 32, 106, 107, 108, 109, 110, 111, 112, 113], [33, 19, 34, 15, 114, 115, 35, 116, 117, 36, 118, 28, 119, 120, 32, 6, 121, 20, 122, 123, 37, 124, 125, 21, 126, 127, 128, 129, 130, 131, 132, 133, 134, 135, 136, 137, 138, 139, 16, 31, 140, 141, 142, 143, 144, 15, 10, 34, 37, 15], [145, 146, 8, 4, 3, 147, 148, 149, 150, 151, 152, 153, 154, 155, 156, 157, 158, 159, 160, 161, 162, 163, 164, 165, 166, 38, 167, 168, 169, 170], [171, 1, 172, 173, 174, 175, 1, 39, 176, 177, 16, 178, 18, 179, 180, 181, 40, 41, 23, 42], [182, 16, 2, 1, 183, 184, 185, 2, 186, 1, 6, 187, 188, 189, 42, 190, 8, 4, 3, 1, 191, 192, 43, 17, 193, 194, 1, 195, 35, 196], [197, 2, 198, 199, 40, 200, 201, 7, 202, 203, 204, 205, 206, 207, 208, 36, 209, 210, 211, 212, 213, 214, 215, 216, 217, 8, 4, 3, 218, 219, 220, 221, 29, 11, 7, 222, 223, 224, 225, 226, 5, 13, 227, 228, 229, 230, 231, 232, 14, 43, 233, 25, 234, 235, 1, 17, 236, 237, 238, 239, 240, 241, 33, 242, 243, 244, 245, 246, 247, 248, 249, 41, 250, 251, 252, 253, 254, 1, 255, 256, 257, 258, 259, 260, 261, 262, 30, 263, 264, 265, 266, 17, 267, 44, 268, 269, 270, 271, 272, 14, 273, 27, 8, 4, 3, 7, 274, 275, 276, 5, 45, 1, 277, 278, 279, 280, 13, 281, 282, 283, 284, 285], [286, 287], [288, 289, 44, 290, 291, 292, 45, 2, 293, 294, 295, 9, 296, 297, 39, 38]]\n",
      "0.06150317192077637\n"
     ]
    }
   ],
   "source": [
    "# Text to sequence\n",
    "seq_tokenizer = Tokenizer(num_words = 1000)\n",
    "seq_tokenizer.fit_on_texts(processed_review)\n",
    "\n",
    "seq = seq_tokenizer.texts_to_sequences(processed_review)\n",
    "print(seq)\n",
    "end = time.time()\n",
    "print(end-start)"
   ]
  },
  {
   "cell_type": "markdown",
   "metadata": {},
   "source": [
    "### General Notes\n",
    "\n",
    "Keras tutorial using functional neural networks not sequential"
   ]
  }
 ],
 "metadata": {
  "kernelspec": {
   "display_name": "Python 3",
   "language": "python",
   "name": "python3"
  },
  "language_info": {
   "codemirror_mode": {
    "name": "ipython",
    "version": 3
   },
   "file_extension": ".py",
   "mimetype": "text/x-python",
   "name": "python",
   "nbconvert_exporter": "python",
   "pygments_lexer": "ipython3",
   "version": "3.8.5"
  }
 },
 "nbformat": 4,
 "nbformat_minor": 4
}
